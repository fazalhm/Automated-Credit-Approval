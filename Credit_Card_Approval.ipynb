{
  "nbformat": 4,
  "nbformat_minor": 0,
  "metadata": {
    "kernelspec": {
      "display_name": "Python 3",
      "language": "python",
      "name": "python3"
    },
    "language_info": {
      "codemirror_mode": {
        "name": "ipython",
        "version": 3
      },
      "file_extension": ".py",
      "mimetype": "text/x-python",
      "name": "python",
      "nbconvert_exporter": "python",
      "pygments_lexer": "ipython3",
      "version": "3.7.4"
    },
    "colab": {
      "name": "Credit Card Approval.ipynb",
      "provenance": [],
      "collapsed_sections": []
    }
  },
  "cells": [
    {
      "cell_type": "code",
      "metadata": {
        "id": "XVgbTPI-stIP"
      },
      "source": [
        "\"\"\"\n",
        "  Name: Hussain Fazal\n",
        "  Date: 05/10/2020\n",
        "  File Name: Credit Card Approval\n",
        "\n",
        "  Description: This file is used to analyse and predict credit card approval.\n",
        "  Requirements: Change the dataset destination in \"data\" variable initialisation.\n",
        "\"\"\""
      ],
      "execution_count": null,
      "outputs": []
    },
    {
      "cell_type": "code",
      "metadata": {
        "id": "9dZbgpXO-BJB"
      },
      "source": [
        "# Packages\n",
        "import matplotlib.pyplot as plt\n",
        "import pandas as pd\n",
        "import numpy as np\n",
        "\n",
        "# Tools for analysis\n",
        "from sklearn.model_selection import train_test_split\n",
        "from sklearn.model_selection import KFold\n",
        "from sklearn.model_selection import GridSearchCV\n",
        "\n",
        "# Classifiers\n",
        "from sklearn.linear_model import LogisticRegression\n",
        "from sklearn.tree import DecisionTreeClassifier\n",
        "from sklearn.ensemble import RandomForestClassifier\n",
        "from sklearn.neighbors import KNeighborsClassifier\n",
        "from sklearn.gaussian_process import GaussianProcessClassifier\n",
        "from sklearn.gaussian_process.kernels import RBF\n",
        "from sklearn.neural_network import MLPClassifier\n",
        "\n",
        "# Metrics\n",
        "from sklearn.metrics import confusion_matrix\n",
        "from sklearn.metrics import ConfusionMatrixDisplay"
      ],
      "execution_count": 54,
      "outputs": []
    },
    {
      "cell_type": "code",
      "metadata": {
        "id": "K22okN0W-X53"
      },
      "source": [
        "# Loading the dataset into pandas data frame\n",
        "data = pd.read_csv(\"/datasets/credit_card_australian.csv\", header=None)\n",
        "\n",
        "# Seprating the metadata and the labels (which is the last column)\n",
        "metadata = data.iloc[:,:-1]\n",
        "label = data.iloc[:,-1]\n",
        "\n",
        "# Converting the datatypes to numpy\n",
        "metadata = metadata.to_numpy()\n",
        "label = label.to_numpy()\n",
        "\n",
        "# Spliting the data into training and testing data\n",
        "# X_train, X_test, y_train, y_test = train_test_split(metadata, label, test_size=0.33, random_state=42)"
      ],
      "execution_count": 55,
      "outputs": []
    },
    {
      "cell_type": "code",
      "metadata": {
        "id": "ZtjSL6Wa-BJC"
      },
      "source": [
        "# Function used for displaying confusion matrix\n",
        "def display_confusion_matrix(title,cm):\n",
        "    class_names = ['Rejected','Approved']\n",
        "    print(title + \" Confusion Matrix\")\n",
        "    print(cm)\n",
        "\n",
        "    normed_c = (cm.T / cm.astype(np.float).sum(axis=1)).T\n",
        "    cm_display = ConfusionMatrixDisplay(normed_c,display_labels=class_names).plot(cmap=plt.cm.Blues)\n",
        "    cm_display.ax_.set_title(title + \" Normalized Confusion Matrix:\")\n",
        "\n",
        "# Function used for cross validation\n",
        "def cross_val(clf, K, metadata, label, title, return_clf = False):\n",
        "    # scores is used to give average of accuracy\n",
        "    scores = []\n",
        "    cv = KFold(n_splits=K)\n",
        "    avg_cm = np.zeros((2,2))\n",
        "    \n",
        "    # K fold analysis, used for spliting the data into k batches\n",
        "    for train_index, test_index in cv.split(metadata):\n",
        "      \n",
        "        X_train, y_train = metadata[train_index], label[train_index]\n",
        "        X_test, y_test = metadata[test_index], label[test_index]\n",
        "\n",
        "        clf.fit(X_train, y_train)\n",
        "        scores.append(clf.score(X_test, y_test))\n",
        "        avg_cm += confusion_matrix(y_test, clf.predict(X_test))\n",
        "    \n",
        "    # Display the average score + Confusion Matrix \n",
        "    print(title + \" score: \", np.mean(scores))\n",
        "    display_confusion_matrix(title,avg_cm)\n",
        "    \n",
        "    # returns the classifier if needed\n",
        "    if(return_clf == True):\n",
        "        return clf\n",
        "\n",
        "# Function used for parameter tuning\n",
        "def parameter_tuning(clf, metadata, label, param_grid):\n",
        "  # Initialising grid search\n",
        "  grid = GridSearchCV(estimator=clf,\n",
        "                      param_grid=param_grid,\n",
        "                      scoring='accuracy',\n",
        "                      verbose=1,\n",
        "                      n_jobs=-1)\n",
        "  \n",
        "  # Inputing the data onto the grid search\n",
        "  grid_result = grid.fit(metadata, label)\n",
        "\n",
        "  # Displaying the best score with its corrsponding parameters\n",
        "  print('Best Score: ', grid_result.best_score_)\n",
        "  print('Best Params: ', grid_result.best_params_)"
      ],
      "execution_count": 56,
      "outputs": []
    },
    {
      "cell_type": "code",
      "metadata": {
        "id": "inY_EjsaSHON"
      },
      "source": [
        "\"\"\"\n",
        "  Classifiers with their parameters, these variables and parameters\n",
        "  will be used during parameter tuning and K Fold.\n",
        "\"\"\"\n",
        "#------------------------------------------------------------------------------#\n",
        "# Classifier Random Forest with its parameters\n",
        "classifier_rf = RandomForestClassifier()\n",
        "param_grid_randomForest = {\n",
        "    'max_depth': [80, 90, 100, 110],\n",
        "    'min_samples_leaf': [3, 4, 5],\n",
        "    'min_samples_split': [8, 10, 12],\n",
        "    'n_estimators': [100, 200, 300, 1000],\n",
        "    'max_features' : ['auto', 'sqrt', 'log2']\n",
        "}\n",
        "\n",
        "#------------------------------------------------------------------------------#\n",
        "# Classifier Logistic Regression with its parameters\n",
        "classifier_lr = LogisticRegression(multi_class='ovr')\n",
        "param_grid_logisticRegression = {\n",
        "    'C' :[0.0001, 0.001, 0.01, 0.1, 1, 10, 100, 1000],\n",
        "    'class_weight' : [{1:0.5, 0:0.5}, {1:0.4, 0:0.6}, {1:0.6, 0:0.4}, {1:0.7, 0:0.3}, 'balanced'],\n",
        "    'solver' : ['newton-cg', 'lbfgs', 'liblinear', 'sag', 'saga'],\n",
        "    'penalty' : ['l1', 'l2']\n",
        "}\n",
        "\n",
        "#------------------------------------------------------------------------------#\n",
        "# Classifier Decision Tree with its parameters\n",
        "classifier_dt = DecisionTreeClassifier()\n",
        "param_grid_decisionTree = {\n",
        "    'max_depth': [80, 90, 100, 110],\n",
        "    'min_samples_leaf': [3, 4, 5],\n",
        "    'min_samples_split': [8, 10, 12],\n",
        "    'max_features' : ['auto', 'sqrt', 'log2'],\n",
        "    'splitter' : ['best', 'random']\n",
        "}\n",
        "\n",
        "#------------------------------------------------------------------------------#\n",
        "# Classifier K-Neighbors with its parameters\n",
        "classifier_kn = KNeighborsClassifier()\n",
        "param_grid_KNeighbors = {\n",
        "    'leaf_size' : list(range(1,50)),\n",
        "    'n_neighbors' : list(range(1,30)),\n",
        "    'p' : [1,2]\n",
        "}\n",
        "\n",
        "#------------------------------------------------------------------------------#\n",
        "# Classifier Gaussian Process with its parameters\n",
        "classifier_gp = GaussianProcessClassifier(kernel = 1.0 * RBF(1.0))\n",
        "param_grid_GaussianProcess = {\n",
        "    'optimizer' : ['fmin_l_bfgs_b'],\n",
        "    'max_iter_predict' : [100, 200, 300]\n",
        "}\n",
        "\n",
        "#------------------------------------------------------------------------------#\n",
        "# Classifier Multi-Layer-Perceptron (MLP) with its parameters\n",
        "classifier_mlp = MLPClassifier()\n",
        "param_grid_MLP = {\n",
        "    'hidden_layer_sizes' : [100, 200, 50],\n",
        "    'activation' : ['identity', 'logistic', 'tanh', 'relu'],\n",
        "    'solver' : ['lbfgs', 'sgd', 'adam'],\n",
        "    'learning_rate' : ['constant', 'invscaling', 'adaptive'],\n",
        "    'max_iter' : [100, 200, 300]\n",
        "}"
      ],
      "execution_count": 63,
      "outputs": []
    },
    {
      "cell_type": "code",
      "metadata": {
        "colab": {
          "base_uri": "https://localhost:8080/"
        },
        "id": "RdBB_1XDdbPb",
        "outputId": "a91021e5-1095-4720-ee90-2b726d68b9be"
      },
      "source": [
        "\"\"\"\n",
        "  Use any of the classifier and the parameters to \n",
        "  parameter tune them.\n",
        "\"\"\"\n",
        "\n",
        "parameter_tuning(classifier_rf, metadata, label, param_grid_randomForest)"
      ],
      "execution_count": 67,
      "outputs": [
        {
          "output_type": "stream",
          "text": [
            "Fitting 5 folds for each of 432 candidates, totalling 2160 fits\n"
          ],
          "name": "stdout"
        },
        {
          "output_type": "stream",
          "text": [
            "[Parallel(n_jobs=-1)]: Using backend LokyBackend with 2 concurrent workers.\n",
            "[Parallel(n_jobs=-1)]: Done  46 tasks      | elapsed:   27.3s\n",
            "[Parallel(n_jobs=-1)]: Done 196 tasks      | elapsed:  2.1min\n",
            "[Parallel(n_jobs=-1)]: Done 446 tasks      | elapsed:  4.8min\n",
            "[Parallel(n_jobs=-1)]: Done 796 tasks      | elapsed:  8.6min\n",
            "[Parallel(n_jobs=-1)]: Done 1246 tasks      | elapsed: 13.7min\n",
            "[Parallel(n_jobs=-1)]: Done 1796 tasks      | elapsed: 19.7min\n"
          ],
          "name": "stderr"
        },
        {
          "output_type": "stream",
          "text": [
            "Best Score:  0.8710144927536231\n",
            "Best Params:  {'max_depth': 80, 'max_features': 'auto', 'min_samples_leaf': 4, 'min_samples_split': 8, 'n_estimators': 100}\n"
          ],
          "name": "stdout"
        },
        {
          "output_type": "stream",
          "text": [
            "[Parallel(n_jobs=-1)]: Done 2160 out of 2160 | elapsed: 23.7min finished\n"
          ],
          "name": "stderr"
        }
      ]
    },
    {
      "cell_type": "code",
      "metadata": {
        "colab": {
          "base_uri": "https://localhost:8080/",
          "height": 366
        },
        "id": "n1fxJ_4afEkz",
        "outputId": "0e0485e2-bdda-4881-a77b-3d049153ac97"
      },
      "source": [
        "\"\"\"\n",
        "  Use the best parameters and use the \n",
        "  cross_val function to get the results.\n",
        "\"\"\"\n",
        "title = \"Random Forest\"\n",
        "K = 5\n",
        "clf = RandomForestClassifier( max_depth = 80,\n",
        "                              min_samples_leaf = 4,\n",
        "                              min_samples_split = 8,\n",
        "                              n_estimators = 100,\n",
        "                              max_features = \"auto\"\n",
        "                             )\n",
        "\n",
        "# Calling the cross validation function.\n",
        "cross_val(clf, K, metadata, label, title, return_clf = False)"
      ],
      "execution_count": 68,
      "outputs": [
        {
          "output_type": "stream",
          "text": [
            "Random Forest score:  0.8681159420289856\n",
            "Random Forest Confusion Matrix\n",
            "[[341.  42.]\n",
            " [ 49. 258.]]\n"
          ],
          "name": "stdout"
        },
        {
          "output_type": "display_data",
          "data": {
            "image/png": "[encoded data removed]",
            "text/plain": [
              "<Figure size 432x288 with 2 Axes>"
            ]
          },
          "metadata": {
            "tags": [],
            "needs_background": "light"
          }
        }
      ]
    },
    {
      "cell_type": "code",
      "metadata": {
        "id": "DR-QZfnIho4X"
      },
      "source": [
        ""
      ],
      "execution_count": null,
      "outputs": []
    }
  ]
}